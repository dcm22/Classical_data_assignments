{
  "nbformat": 4,
  "nbformat_minor": 0,
  "metadata": {
    "colab": {
      "name": "Session_3_Regularization_and_Poly_regression_EXERCISE_SOLVED.ipynb",
      "provenance": [],
      "collapsed_sections": [],
      "toc_visible": true
    },
    "kernelspec": {
      "name": "python3",
      "display_name": "Python 3"
    }
  },
  "cells": [
    {
      "cell_type": "markdown",
      "metadata": {
        "id": "T_U6YCp9QD33"
      },
      "source": [
        "\n",
        "![BTS](https://github.com/vfp1/bts-dsf-2020/raw/main/Logo-BTS.jpg)\n",
        "\n",
        "# Session 3: Logistic Regression EXERCISE\n",
        "\n",
        "### Victor F. Pajuelo Madrigal <victor.pajuelo@bts.tech> - Classical Data Analysis (2020-12-21)\n",
        "\n",
        "Open original notebook in Google Colaboratory: [![Open in Colab](https://colab.research.google.com/assets/colab-badge.svg)](https://colab.research.google.com/github/vfp1/bts-cda-2020/blob/main/Session_3/Session_3_Regularization_and_Poly_regression_EXERCISE.ipynb)\n",
        "\n",
        "**Resources:**\n",
        "* Auréliene Géron, Hands On ML with SKlearn, Keras and TF"
      ]
    },
    {
      "cell_type": "markdown",
      "metadata": {
        "id": "47cNdF6xP5eF"
      },
      "source": [
        "# Regression with regularization"
      ]
    },
    {
      "cell_type": "markdown",
      "metadata": {
        "id": "I-2OcibZP5eH"
      },
      "source": [
        "#### We will using the Boston Housing Dataset available in sklearn and we will extend it with  5 additional features of random noise to test each algorithm’s ability to filter out irrelevant information:\n",
        "\n",
        "- **Examine the results of applying Linear Regression, Lasso Regression, Ridge Regression and Elastic Net on the features scores**\n",
        "- **Try to modify the hyperparameters lambda and describe how it affects the parmeter scores**\n",
        "\n",
        "This is the very same exercise that we did in class, try to go in depth into the tradeoffs of lambda (alpha) and others"
      ]
    },
    {
      "cell_type": "markdown",
      "metadata": {
        "id": "oGLVXZSyP5eH"
      },
      "source": [
        "### Import libraries and dataset from sklearn"
      ]
    },
    {
      "cell_type": "code",
      "metadata": {
        "id": "YfgiMb3fP5eI",
        "colab": {
          "base_uri": "https://localhost:8080/",
          "height": 204
        },
        "outputId": "4294c1df-35b5-4a84-eb44-6f1ad06a6eb8"
      },
      "source": [
        "import matplotlib.pyplot as plt\n",
        "import numpy as np \n",
        "import pandas as pd\n",
        "import matplotlib\n",
        "matplotlib.rcParams.update({'font.size': 12})\n",
        "from sklearn.datasets import load_boston\n",
        "from sklearn.model_selection import train_test_split\n",
        "from sklearn.linear_model import LinearRegression\n",
        "from sklearn.linear_model import Ridge\n",
        "from sklearn import metrics\n",
        "from sklearn.metrics import mean_squared_error\n",
        "\n",
        "boston=load_boston()\n",
        "boston_df=pd.DataFrame(boston.data,columns=boston.feature_names)\n",
        "\n",
        "boston_df.head()"
      ],
      "execution_count": 12,
      "outputs": [
        {
          "output_type": "execute_result",
          "data": {
            "text/html": [
              "<div>\n",
              "<style scoped>\n",
              "    .dataframe tbody tr th:only-of-type {\n",
              "        vertical-align: middle;\n",
              "    }\n",
              "\n",
              "    .dataframe tbody tr th {\n",
              "        vertical-align: top;\n",
              "    }\n",
              "\n",
              "    .dataframe thead th {\n",
              "        text-align: right;\n",
              "    }\n",
              "</style>\n",
              "<table border=\"1\" class=\"dataframe\">\n",
              "  <thead>\n",
              "    <tr style=\"text-align: right;\">\n",
              "      <th></th>\n",
              "      <th>CRIM</th>\n",
              "      <th>ZN</th>\n",
              "      <th>INDUS</th>\n",
              "      <th>CHAS</th>\n",
              "      <th>NOX</th>\n",
              "      <th>RM</th>\n",
              "      <th>AGE</th>\n",
              "      <th>DIS</th>\n",
              "      <th>RAD</th>\n",
              "      <th>TAX</th>\n",
              "      <th>PTRATIO</th>\n",
              "      <th>B</th>\n",
              "      <th>LSTAT</th>\n",
              "    </tr>\n",
              "  </thead>\n",
              "  <tbody>\n",
              "    <tr>\n",
              "      <th>0</th>\n",
              "      <td>0.00632</td>\n",
              "      <td>18.0</td>\n",
              "      <td>2.31</td>\n",
              "      <td>0.0</td>\n",
              "      <td>0.538</td>\n",
              "      <td>6.575</td>\n",
              "      <td>65.2</td>\n",
              "      <td>4.0900</td>\n",
              "      <td>1.0</td>\n",
              "      <td>296.0</td>\n",
              "      <td>15.3</td>\n",
              "      <td>396.90</td>\n",
              "      <td>4.98</td>\n",
              "    </tr>\n",
              "    <tr>\n",
              "      <th>1</th>\n",
              "      <td>0.02731</td>\n",
              "      <td>0.0</td>\n",
              "      <td>7.07</td>\n",
              "      <td>0.0</td>\n",
              "      <td>0.469</td>\n",
              "      <td>6.421</td>\n",
              "      <td>78.9</td>\n",
              "      <td>4.9671</td>\n",
              "      <td>2.0</td>\n",
              "      <td>242.0</td>\n",
              "      <td>17.8</td>\n",
              "      <td>396.90</td>\n",
              "      <td>9.14</td>\n",
              "    </tr>\n",
              "    <tr>\n",
              "      <th>2</th>\n",
              "      <td>0.02729</td>\n",
              "      <td>0.0</td>\n",
              "      <td>7.07</td>\n",
              "      <td>0.0</td>\n",
              "      <td>0.469</td>\n",
              "      <td>7.185</td>\n",
              "      <td>61.1</td>\n",
              "      <td>4.9671</td>\n",
              "      <td>2.0</td>\n",
              "      <td>242.0</td>\n",
              "      <td>17.8</td>\n",
              "      <td>392.83</td>\n",
              "      <td>4.03</td>\n",
              "    </tr>\n",
              "    <tr>\n",
              "      <th>3</th>\n",
              "      <td>0.03237</td>\n",
              "      <td>0.0</td>\n",
              "      <td>2.18</td>\n",
              "      <td>0.0</td>\n",
              "      <td>0.458</td>\n",
              "      <td>6.998</td>\n",
              "      <td>45.8</td>\n",
              "      <td>6.0622</td>\n",
              "      <td>3.0</td>\n",
              "      <td>222.0</td>\n",
              "      <td>18.7</td>\n",
              "      <td>394.63</td>\n",
              "      <td>2.94</td>\n",
              "    </tr>\n",
              "    <tr>\n",
              "      <th>4</th>\n",
              "      <td>0.06905</td>\n",
              "      <td>0.0</td>\n",
              "      <td>2.18</td>\n",
              "      <td>0.0</td>\n",
              "      <td>0.458</td>\n",
              "      <td>7.147</td>\n",
              "      <td>54.2</td>\n",
              "      <td>6.0622</td>\n",
              "      <td>3.0</td>\n",
              "      <td>222.0</td>\n",
              "      <td>18.7</td>\n",
              "      <td>396.90</td>\n",
              "      <td>5.33</td>\n",
              "    </tr>\n",
              "  </tbody>\n",
              "</table>\n",
              "</div>"
            ],
            "text/plain": [
              "      CRIM    ZN  INDUS  CHAS    NOX  ...  RAD    TAX  PTRATIO       B  LSTAT\n",
              "0  0.00632  18.0   2.31   0.0  0.538  ...  1.0  296.0     15.3  396.90   4.98\n",
              "1  0.02731   0.0   7.07   0.0  0.469  ...  2.0  242.0     17.8  396.90   9.14\n",
              "2  0.02729   0.0   7.07   0.0  0.469  ...  2.0  242.0     17.8  392.83   4.03\n",
              "3  0.03237   0.0   2.18   0.0  0.458  ...  3.0  222.0     18.7  394.63   2.94\n",
              "4  0.06905   0.0   2.18   0.0  0.458  ...  3.0  222.0     18.7  396.90   5.33\n",
              "\n",
              "[5 rows x 13 columns]"
            ]
          },
          "metadata": {
            "tags": []
          },
          "execution_count": 12
        }
      ]
    },
    {
      "cell_type": "markdown",
      "metadata": {
        "id": "W7fJX1LuP5eK"
      },
      "source": [
        "### Add Noise to original dataset"
      ]
    },
    {
      "cell_type": "code",
      "metadata": {
        "id": "kOCkhsAZP5eK"
      },
      "source": [
        "n_houses = boston_df.shape[0]\n",
        "rand_noise = np.random.rand(n_houses, 5)\n",
        "\n",
        "rand_noise_df = pd.DataFrame(data=rand_noise, columns=['Noise_1', 'Noise_2', 'Noise_3', 'Noise_4', 'Noise_5'])\n",
        "X = pd.concat([boston_df, rand_noise_df], axis=1)\n",
        "y = boston['target']\n"
      ],
      "execution_count": 13,
      "outputs": []
    },
    {
      "cell_type": "code",
      "metadata": {
        "id": "cG1PjrYhP5eK",
        "colab": {
          "base_uri": "https://localhost:8080/",
          "height": 224
        },
        "outputId": "9c6e0ce4-d953-4573-81bb-77dcdba01c71"
      },
      "source": [
        "X.head()"
      ],
      "execution_count": 14,
      "outputs": [
        {
          "output_type": "execute_result",
          "data": {
            "text/html": [
              "<div>\n",
              "<style scoped>\n",
              "    .dataframe tbody tr th:only-of-type {\n",
              "        vertical-align: middle;\n",
              "    }\n",
              "\n",
              "    .dataframe tbody tr th {\n",
              "        vertical-align: top;\n",
              "    }\n",
              "\n",
              "    .dataframe thead th {\n",
              "        text-align: right;\n",
              "    }\n",
              "</style>\n",
              "<table border=\"1\" class=\"dataframe\">\n",
              "  <thead>\n",
              "    <tr style=\"text-align: right;\">\n",
              "      <th></th>\n",
              "      <th>CRIM</th>\n",
              "      <th>ZN</th>\n",
              "      <th>INDUS</th>\n",
              "      <th>CHAS</th>\n",
              "      <th>NOX</th>\n",
              "      <th>RM</th>\n",
              "      <th>AGE</th>\n",
              "      <th>DIS</th>\n",
              "      <th>RAD</th>\n",
              "      <th>TAX</th>\n",
              "      <th>PTRATIO</th>\n",
              "      <th>B</th>\n",
              "      <th>LSTAT</th>\n",
              "      <th>Noise_1</th>\n",
              "      <th>Noise_2</th>\n",
              "      <th>Noise_3</th>\n",
              "      <th>Noise_4</th>\n",
              "      <th>Noise_5</th>\n",
              "    </tr>\n",
              "  </thead>\n",
              "  <tbody>\n",
              "    <tr>\n",
              "      <th>0</th>\n",
              "      <td>0.00632</td>\n",
              "      <td>18.0</td>\n",
              "      <td>2.31</td>\n",
              "      <td>0.0</td>\n",
              "      <td>0.538</td>\n",
              "      <td>6.575</td>\n",
              "      <td>65.2</td>\n",
              "      <td>4.0900</td>\n",
              "      <td>1.0</td>\n",
              "      <td>296.0</td>\n",
              "      <td>15.3</td>\n",
              "      <td>396.90</td>\n",
              "      <td>4.98</td>\n",
              "      <td>0.661121</td>\n",
              "      <td>0.241159</td>\n",
              "      <td>0.953583</td>\n",
              "      <td>0.827271</td>\n",
              "      <td>0.017726</td>\n",
              "    </tr>\n",
              "    <tr>\n",
              "      <th>1</th>\n",
              "      <td>0.02731</td>\n",
              "      <td>0.0</td>\n",
              "      <td>7.07</td>\n",
              "      <td>0.0</td>\n",
              "      <td>0.469</td>\n",
              "      <td>6.421</td>\n",
              "      <td>78.9</td>\n",
              "      <td>4.9671</td>\n",
              "      <td>2.0</td>\n",
              "      <td>242.0</td>\n",
              "      <td>17.8</td>\n",
              "      <td>396.90</td>\n",
              "      <td>9.14</td>\n",
              "      <td>0.726147</td>\n",
              "      <td>0.187623</td>\n",
              "      <td>0.272374</td>\n",
              "      <td>0.897391</td>\n",
              "      <td>0.424791</td>\n",
              "    </tr>\n",
              "    <tr>\n",
              "      <th>2</th>\n",
              "      <td>0.02729</td>\n",
              "      <td>0.0</td>\n",
              "      <td>7.07</td>\n",
              "      <td>0.0</td>\n",
              "      <td>0.469</td>\n",
              "      <td>7.185</td>\n",
              "      <td>61.1</td>\n",
              "      <td>4.9671</td>\n",
              "      <td>2.0</td>\n",
              "      <td>242.0</td>\n",
              "      <td>17.8</td>\n",
              "      <td>392.83</td>\n",
              "      <td>4.03</td>\n",
              "      <td>0.363112</td>\n",
              "      <td>0.791657</td>\n",
              "      <td>0.111797</td>\n",
              "      <td>0.723686</td>\n",
              "      <td>0.555622</td>\n",
              "    </tr>\n",
              "    <tr>\n",
              "      <th>3</th>\n",
              "      <td>0.03237</td>\n",
              "      <td>0.0</td>\n",
              "      <td>2.18</td>\n",
              "      <td>0.0</td>\n",
              "      <td>0.458</td>\n",
              "      <td>6.998</td>\n",
              "      <td>45.8</td>\n",
              "      <td>6.0622</td>\n",
              "      <td>3.0</td>\n",
              "      <td>222.0</td>\n",
              "      <td>18.7</td>\n",
              "      <td>394.63</td>\n",
              "      <td>2.94</td>\n",
              "      <td>0.187469</td>\n",
              "      <td>0.368642</td>\n",
              "      <td>0.029125</td>\n",
              "      <td>0.509723</td>\n",
              "      <td>0.900653</td>\n",
              "    </tr>\n",
              "    <tr>\n",
              "      <th>4</th>\n",
              "      <td>0.06905</td>\n",
              "      <td>0.0</td>\n",
              "      <td>2.18</td>\n",
              "      <td>0.0</td>\n",
              "      <td>0.458</td>\n",
              "      <td>7.147</td>\n",
              "      <td>54.2</td>\n",
              "      <td>6.0622</td>\n",
              "      <td>3.0</td>\n",
              "      <td>222.0</td>\n",
              "      <td>18.7</td>\n",
              "      <td>396.90</td>\n",
              "      <td>5.33</td>\n",
              "      <td>0.979575</td>\n",
              "      <td>0.733803</td>\n",
              "      <td>0.713236</td>\n",
              "      <td>0.525267</td>\n",
              "      <td>0.282277</td>\n",
              "    </tr>\n",
              "  </tbody>\n",
              "</table>\n",
              "</div>"
            ],
            "text/plain": [
              "      CRIM    ZN  INDUS  CHAS  ...   Noise_2   Noise_3   Noise_4   Noise_5\n",
              "0  0.00632  18.0   2.31   0.0  ...  0.241159  0.953583  0.827271  0.017726\n",
              "1  0.02731   0.0   7.07   0.0  ...  0.187623  0.272374  0.897391  0.424791\n",
              "2  0.02729   0.0   7.07   0.0  ...  0.791657  0.111797  0.723686  0.555622\n",
              "3  0.03237   0.0   2.18   0.0  ...  0.368642  0.029125  0.509723  0.900653\n",
              "4  0.06905   0.0   2.18   0.0  ...  0.733803  0.713236  0.525267  0.282277\n",
              "\n",
              "[5 rows x 18 columns]"
            ]
          },
          "metadata": {
            "tags": []
          },
          "execution_count": 14
        }
      ]
    },
    {
      "cell_type": "code",
      "metadata": {
        "id": "wfKjAvf4P5eL",
        "colab": {
          "base_uri": "https://localhost:8080/"
        },
        "outputId": "c689bc26-2518-4988-bff3-355c835e3757"
      },
      "source": [
        "y[0:5]"
      ],
      "execution_count": 15,
      "outputs": [
        {
          "output_type": "execute_result",
          "data": {
            "text/plain": [
              "array([24. , 21.6, 34.7, 33.4, 36.2])"
            ]
          },
          "metadata": {
            "tags": []
          },
          "execution_count": 15
        }
      ]
    },
    {
      "cell_type": "markdown",
      "metadata": {
        "id": "hx6KUx1kP5eL"
      },
      "source": [
        "### Implement classical linear regression, Lasso, Ridge and ElasticNet (use the default parameter of sklearn) and describe how the scores of the features change"
      ]
    },
    {
      "cell_type": "code",
      "metadata": {
        "id": "YWVwV1sHP5eM"
      },
      "source": [
        "from sklearn.linear_model import LinearRegression, Lasso, Ridge, ElasticNet\n",
        "\n",
        "# CREATE MODEL INSTANCES\n",
        "boston_lr = LinearRegression()\n",
        "boston_ls = Lasso()\n",
        "boston_rg = Ridge(alpha=10)\n",
        "boston_en = ElasticNet()\n"
      ],
      "execution_count": 16,
      "outputs": []
    },
    {
      "cell_type": "markdown",
      "metadata": {
        "id": "Vp3_wR5CP5eM"
      },
      "source": [
        "##### NORMALIZE DATA USING THE ```StandardScaler``` PROVIDED BY sklearn"
      ]
    },
    {
      "cell_type": "code",
      "metadata": {
        "id": "Ftfk1EaAP5eM"
      },
      "source": [
        "from sklearn.preprocessing import StandardScaler\n",
        "\n",
        "boston_ss = StandardScaler()\n",
        "X_scaled = boston_ss.fit_transform(X=X)\n",
        "\n",
        "X_train, X_test, y_train, y_test = train_test_split(X_scaled, y, test_size=0.25, random_state=235)"
      ],
      "execution_count": 17,
      "outputs": []
    },
    {
      "cell_type": "code",
      "metadata": {
        "colab": {
          "base_uri": "https://localhost:8080/",
          "height": 1000
        },
        "id": "eLleSffzkFJD",
        "outputId": "58e8bb62-f048-4ae2-9f60-85fd91a158f5"
      },
      "source": [
        "#Fitting models\n",
        "\n",
        "lr = boston_lr.fit(X_train, y_train)\n",
        "ls = boston_ls.fit(X_train, y_train)\n",
        "rg = boston_rg.fit(X_train, y_train)\n",
        "en = boston_en.fit(X_train, y_train)\n",
        "\n",
        "#Plotting scores\n",
        "\n",
        "pd.Series(lr.coef_, index = X.columns).plot(kind='barh')\n",
        "plt.title('Linear Regression')\n",
        "plt.xlabel('Coefficient Value')\n",
        "plt.ylabel('Feature Name')\n",
        "plt.show()\n",
        "\n",
        "pd.Series(ls.coef_, index = X.columns).plot(kind='barh')\n",
        "plt.title('Lasso')\n",
        "plt.xlabel('Coefficient Value')\n",
        "plt.ylabel('Feature Name')\n",
        "plt.show()\n",
        "\n",
        "pd.Series(rg.coef_, index = X.columns).plot(kind='barh')\n",
        "plt.title('Ridge')\n",
        "plt.xlabel('Coefficient Value')\n",
        "plt.ylabel('Feature Name')\n",
        "plt.show()\n",
        "\n",
        "pd.Series(en.coef_, index = X.columns).plot(kind='barh')\n",
        "plt.title('Elastic Net')\n",
        "plt.xlabel('Coefficient Value')\n",
        "plt.ylabel('Feature Name')\n",
        "plt.show()"
      ],
      "execution_count": 18,
      "outputs": [
        {
          "output_type": "display_data",
          "data": {
            "image/png": "[encoded data removed]",
            "text/plain": [
              "<Figure size 432x288 with 1 Axes>"
            ]
          },
          "metadata": {
            "tags": [],
            "needs_background": "light"
          }
        },
        {
          "output_type": "display_data",
          "data": {
            "image/png": "[encoded data removed]",
            "text/plain": [
              "<Figure size 432x288 with 1 Axes>"
            ]
          },
          "metadata": {
            "tags": [],
            "needs_background": "light"
          }
        },
        {
          "output_type": "display_data",
          "data": {
            "image/png": "[encoded data removed]",
            "text/plain": [
              "<Figure size 432x288 with 1 Axes>"
            ]
          },
          "metadata": {
            "tags": [],
            "needs_background": "light"
          }
        },
        {
          "output_type": "display_data",
          "data": {
            "image/png": "[encoded data removed]",
            "text/plain": [
              "<Figure size 432x288 with 1 Axes>"
            ]
          },
          "metadata": {
            "tags": [],
            "needs_background": "light"
          }
        }
      ]
    },
    {
      "cell_type": "code",
      "metadata": {
        "colab": {
          "base_uri": "https://localhost:8080/",
          "height": 607
        },
        "id": "lcFE792Zl4mN",
        "outputId": "74da89ba-9a0d-4915-d399-692374fc18c2"
      },
      "source": [
        "results = pd.DataFrame()\n",
        "\n",
        "results['Feature Name'] = X.columns\n",
        "results['Linear Regression'] = lr.coef_\n",
        "results['Lasso'] = ls.coef_\n",
        "results['Ridge'] = rg.coef_\n",
        "results['Elastic Net'] = en.coef_\n",
        "\n",
        "results"
      ],
      "execution_count": 19,
      "outputs": [
        {
          "output_type": "execute_result",
          "data": {
            "text/html": [
              "<div>\n",
              "<style scoped>\n",
              "    .dataframe tbody tr th:only-of-type {\n",
              "        vertical-align: middle;\n",
              "    }\n",
              "\n",
              "    .dataframe tbody tr th {\n",
              "        vertical-align: top;\n",
              "    }\n",
              "\n",
              "    .dataframe thead th {\n",
              "        text-align: right;\n",
              "    }\n",
              "</style>\n",
              "<table border=\"1\" class=\"dataframe\">\n",
              "  <thead>\n",
              "    <tr style=\"text-align: right;\">\n",
              "      <th></th>\n",
              "      <th>Feature Name</th>\n",
              "      <th>Linear Regression</th>\n",
              "      <th>Lasso</th>\n",
              "      <th>Ridge</th>\n",
              "      <th>Elastic Net</th>\n",
              "    </tr>\n",
              "  </thead>\n",
              "  <tbody>\n",
              "    <tr>\n",
              "      <th>0</th>\n",
              "      <td>CRIM</td>\n",
              "      <td>-0.209227</td>\n",
              "      <td>-0.000000</td>\n",
              "      <td>-0.169613</td>\n",
              "      <td>-0.000000</td>\n",
              "    </tr>\n",
              "    <tr>\n",
              "      <th>1</th>\n",
              "      <td>ZN</td>\n",
              "      <td>0.741280</td>\n",
              "      <td>0.000000</td>\n",
              "      <td>0.618571</td>\n",
              "      <td>0.000000</td>\n",
              "    </tr>\n",
              "    <tr>\n",
              "      <th>2</th>\n",
              "      <td>INDUS</td>\n",
              "      <td>0.218007</td>\n",
              "      <td>-0.000000</td>\n",
              "      <td>0.035618</td>\n",
              "      <td>-0.112192</td>\n",
              "    </tr>\n",
              "    <tr>\n",
              "      <th>3</th>\n",
              "      <td>CHAS</td>\n",
              "      <td>1.051427</td>\n",
              "      <td>0.340719</td>\n",
              "      <td>1.072807</td>\n",
              "      <td>0.635905</td>\n",
              "    </tr>\n",
              "    <tr>\n",
              "      <th>4</th>\n",
              "      <td>NOX</td>\n",
              "      <td>-2.103254</td>\n",
              "      <td>-0.000000</td>\n",
              "      <td>-1.768821</td>\n",
              "      <td>-0.202282</td>\n",
              "    </tr>\n",
              "    <tr>\n",
              "      <th>5</th>\n",
              "      <td>RM</td>\n",
              "      <td>2.985049</td>\n",
              "      <td>3.075163</td>\n",
              "      <td>3.074850</td>\n",
              "      <td>2.618869</td>\n",
              "    </tr>\n",
              "    <tr>\n",
              "      <th>6</th>\n",
              "      <td>AGE</td>\n",
              "      <td>0.272067</td>\n",
              "      <td>-0.000000</td>\n",
              "      <td>0.165283</td>\n",
              "      <td>-0.000000</td>\n",
              "    </tr>\n",
              "    <tr>\n",
              "      <th>7</th>\n",
              "      <td>DIS</td>\n",
              "      <td>-2.823617</td>\n",
              "      <td>-0.000000</td>\n",
              "      <td>-2.546644</td>\n",
              "      <td>-0.014043</td>\n",
              "    </tr>\n",
              "    <tr>\n",
              "      <th>8</th>\n",
              "      <td>RAD</td>\n",
              "      <td>2.243059</td>\n",
              "      <td>-0.000000</td>\n",
              "      <td>1.669275</td>\n",
              "      <td>-0.000000</td>\n",
              "    </tr>\n",
              "    <tr>\n",
              "      <th>9</th>\n",
              "      <td>TAX</td>\n",
              "      <td>-1.520157</td>\n",
              "      <td>-0.000000</td>\n",
              "      <td>-1.045733</td>\n",
              "      <td>-0.224970</td>\n",
              "    </tr>\n",
              "    <tr>\n",
              "      <th>10</th>\n",
              "      <td>PTRATIO</td>\n",
              "      <td>-2.284379</td>\n",
              "      <td>-1.231897</td>\n",
              "      <td>-2.176383</td>\n",
              "      <td>-1.333656</td>\n",
              "    </tr>\n",
              "    <tr>\n",
              "      <th>11</th>\n",
              "      <td>B</td>\n",
              "      <td>1.055222</td>\n",
              "      <td>0.172007</td>\n",
              "      <td>1.048335</td>\n",
              "      <td>0.590854</td>\n",
              "    </tr>\n",
              "    <tr>\n",
              "      <th>12</th>\n",
              "      <td>LSTAT</td>\n",
              "      <td>-4.035573</td>\n",
              "      <td>-3.480674</td>\n",
              "      <td>-3.856144</td>\n",
              "      <td>-2.496310</td>\n",
              "    </tr>\n",
              "    <tr>\n",
              "      <th>13</th>\n",
              "      <td>Noise_1</td>\n",
              "      <td>0.136172</td>\n",
              "      <td>0.000000</td>\n",
              "      <td>0.129049</td>\n",
              "      <td>0.000000</td>\n",
              "    </tr>\n",
              "    <tr>\n",
              "      <th>14</th>\n",
              "      <td>Noise_2</td>\n",
              "      <td>0.168486</td>\n",
              "      <td>0.000000</td>\n",
              "      <td>0.149948</td>\n",
              "      <td>-0.000000</td>\n",
              "    </tr>\n",
              "    <tr>\n",
              "      <th>15</th>\n",
              "      <td>Noise_3</td>\n",
              "      <td>-0.194672</td>\n",
              "      <td>-0.000000</td>\n",
              "      <td>-0.191221</td>\n",
              "      <td>-0.000000</td>\n",
              "    </tr>\n",
              "    <tr>\n",
              "      <th>16</th>\n",
              "      <td>Noise_4</td>\n",
              "      <td>0.053402</td>\n",
              "      <td>0.000000</td>\n",
              "      <td>0.080963</td>\n",
              "      <td>0.000000</td>\n",
              "    </tr>\n",
              "    <tr>\n",
              "      <th>17</th>\n",
              "      <td>Noise_5</td>\n",
              "      <td>-0.194029</td>\n",
              "      <td>-0.000000</td>\n",
              "      <td>-0.174320</td>\n",
              "      <td>-0.000000</td>\n",
              "    </tr>\n",
              "  </tbody>\n",
              "</table>\n",
              "</div>"
            ],
            "text/plain": [
              "   Feature Name  Linear Regression     Lasso     Ridge  Elastic Net\n",
              "0          CRIM          -0.209227 -0.000000 -0.169613    -0.000000\n",
              "1            ZN           0.741280  0.000000  0.618571     0.000000\n",
              "2         INDUS           0.218007 -0.000000  0.035618    -0.112192\n",
              "3          CHAS           1.051427  0.340719  1.072807     0.635905\n",
              "4           NOX          -2.103254 -0.000000 -1.768821    -0.202282\n",
              "5            RM           2.985049  3.075163  3.074850     2.618869\n",
              "6           AGE           0.272067 -0.000000  0.165283    -0.000000\n",
              "7           DIS          -2.823617 -0.000000 -2.546644    -0.014043\n",
              "8           RAD           2.243059 -0.000000  1.669275    -0.000000\n",
              "9           TAX          -1.520157 -0.000000 -1.045733    -0.224970\n",
              "10      PTRATIO          -2.284379 -1.231897 -2.176383    -1.333656\n",
              "11            B           1.055222  0.172007  1.048335     0.590854\n",
              "12        LSTAT          -4.035573 -3.480674 -3.856144    -2.496310\n",
              "13      Noise_1           0.136172  0.000000  0.129049     0.000000\n",
              "14      Noise_2           0.168486  0.000000  0.149948    -0.000000\n",
              "15      Noise_3          -0.194672 -0.000000 -0.191221    -0.000000\n",
              "16      Noise_4           0.053402  0.000000  0.080963     0.000000\n",
              "17      Noise_5          -0.194029 -0.000000 -0.174320    -0.000000"
            ]
          },
          "metadata": {
            "tags": []
          },
          "execution_count": 19
        }
      ]
    },
    {
      "cell_type": "code",
      "metadata": {
        "id": "TT98zyGHP5eN",
        "colab": {
          "base_uri": "https://localhost:8080/",
          "height": 1000
        },
        "outputId": "1a6e4c59-971b-402c-eb93-59d8a41255a0"
      },
      "source": [
        "## FITTING OF THE MODELS AND RESULTS\n",
        "\n",
        "#Victor's Solution\n",
        "\n",
        "models = [(boston_lr, 'Linear Regression'),\n",
        "           (boston_ls, 'Lasso'),\n",
        "           (boston_rg, \"Ridge Regression\"),\n",
        "           (boston_en, \"Elastic Net\")]\n",
        "\n",
        "df = pd.DataFrame()\n",
        "df['Feature Name'] = X.columns\n",
        "for model in models:\n",
        "    model[0].fit(X_train, y_train)\n",
        "    pd.Series(model[0].coef_, \n",
        "              index=X.columns).plot(kind='barh')\n",
        "    plt.title(model[1])\n",
        "    plt.xlabel('Coefficient Value')\n",
        "    plt.ylabel('Feature Name')\n",
        "    plt.show()\n",
        "    # Create a column name for that reflects the name of the model\n",
        "    column_name = model[1]\n",
        "\n",
        "    # Create a column of coefficient values\n",
        "    df[column_name] = model[0].coef_\n",
        "\n",
        "df"
      ],
      "execution_count": 20,
      "outputs": [
        {
          "output_type": "display_data",
          "data": {
            "image/png": "[encoded data removed]",
            "text/plain": [
              "<Figure size 432x288 with 1 Axes>"
            ]
          },
          "metadata": {
            "tags": [],
            "needs_background": "light"
          }
        },
        {
          "output_type": "display_data",
          "data": {
            "image/png": "[encoded data removed]",
            "text/plain": [
              "<Figure size 432x288 with 1 Axes>"
            ]
          },
          "metadata": {
            "tags": [],
            "needs_background": "light"
          }
        },
        {
          "output_type": "display_data",
          "data": {
            "image/png": "[encoded data removed]",
            "text/plain": [
              "<Figure size 432x288 with 1 Axes>"
            ]
          },
          "metadata": {
            "tags": [],
            "needs_background": "light"
          }
        },
        {
          "output_type": "display_data",
          "data": {
            "image/png": "[encoded data removed]",
            "text/plain": [
              "<Figure size 432x288 with 1 Axes>"
            ]
          },
          "metadata": {
            "tags": [],
            "needs_background": "light"
          }
        },
        {
          "output_type": "execute_result",
          "data": {
            "text/html": [
              "<div>\n",
              "<style scoped>\n",
              "    .dataframe tbody tr th:only-of-type {\n",
              "        vertical-align: middle;\n",
              "    }\n",
              "\n",
              "    .dataframe tbody tr th {\n",
              "        vertical-align: top;\n",
              "    }\n",
              "\n",
              "    .dataframe thead th {\n",
              "        text-align: right;\n",
              "    }\n",
              "</style>\n",
              "<table border=\"1\" class=\"dataframe\">\n",
              "  <thead>\n",
              "    <tr style=\"text-align: right;\">\n",
              "      <th></th>\n",
              "      <th>Feature Name</th>\n",
              "      <th>Linear Regression</th>\n",
              "      <th>Lasso</th>\n",
              "      <th>Ridge Regression</th>\n",
              "      <th>Elastic Net</th>\n",
              "    </tr>\n",
              "  </thead>\n",
              "  <tbody>\n",
              "    <tr>\n",
              "      <th>0</th>\n",
              "      <td>CRIM</td>\n",
              "      <td>-0.209227</td>\n",
              "      <td>-0.000000</td>\n",
              "      <td>-0.169613</td>\n",
              "      <td>-0.000000</td>\n",
              "    </tr>\n",
              "    <tr>\n",
              "      <th>1</th>\n",
              "      <td>ZN</td>\n",
              "      <td>0.741280</td>\n",
              "      <td>0.000000</td>\n",
              "      <td>0.618571</td>\n",
              "      <td>0.000000</td>\n",
              "    </tr>\n",
              "    <tr>\n",
              "      <th>2</th>\n",
              "      <td>INDUS</td>\n",
              "      <td>0.218007</td>\n",
              "      <td>-0.000000</td>\n",
              "      <td>0.035618</td>\n",
              "      <td>-0.112192</td>\n",
              "    </tr>\n",
              "    <tr>\n",
              "      <th>3</th>\n",
              "      <td>CHAS</td>\n",
              "      <td>1.051427</td>\n",
              "      <td>0.340719</td>\n",
              "      <td>1.072807</td>\n",
              "      <td>0.635905</td>\n",
              "    </tr>\n",
              "    <tr>\n",
              "      <th>4</th>\n",
              "      <td>NOX</td>\n",
              "      <td>-2.103254</td>\n",
              "      <td>-0.000000</td>\n",
              "      <td>-1.768821</td>\n",
              "      <td>-0.202282</td>\n",
              "    </tr>\n",
              "    <tr>\n",
              "      <th>5</th>\n",
              "      <td>RM</td>\n",
              "      <td>2.985049</td>\n",
              "      <td>3.075163</td>\n",
              "      <td>3.074850</td>\n",
              "      <td>2.618869</td>\n",
              "    </tr>\n",
              "    <tr>\n",
              "      <th>6</th>\n",
              "      <td>AGE</td>\n",
              "      <td>0.272067</td>\n",
              "      <td>-0.000000</td>\n",
              "      <td>0.165283</td>\n",
              "      <td>-0.000000</td>\n",
              "    </tr>\n",
              "    <tr>\n",
              "      <th>7</th>\n",
              "      <td>DIS</td>\n",
              "      <td>-2.823617</td>\n",
              "      <td>-0.000000</td>\n",
              "      <td>-2.546644</td>\n",
              "      <td>-0.014043</td>\n",
              "    </tr>\n",
              "    <tr>\n",
              "      <th>8</th>\n",
              "      <td>RAD</td>\n",
              "      <td>2.243059</td>\n",
              "      <td>-0.000000</td>\n",
              "      <td>1.669275</td>\n",
              "      <td>-0.000000</td>\n",
              "    </tr>\n",
              "    <tr>\n",
              "      <th>9</th>\n",
              "      <td>TAX</td>\n",
              "      <td>-1.520157</td>\n",
              "      <td>-0.000000</td>\n",
              "      <td>-1.045733</td>\n",
              "      <td>-0.224970</td>\n",
              "    </tr>\n",
              "    <tr>\n",
              "      <th>10</th>\n",
              "      <td>PTRATIO</td>\n",
              "      <td>-2.284379</td>\n",
              "      <td>-1.231897</td>\n",
              "      <td>-2.176383</td>\n",
              "      <td>-1.333656</td>\n",
              "    </tr>\n",
              "    <tr>\n",
              "      <th>11</th>\n",
              "      <td>B</td>\n",
              "      <td>1.055222</td>\n",
              "      <td>0.172007</td>\n",
              "      <td>1.048335</td>\n",
              "      <td>0.590854</td>\n",
              "    </tr>\n",
              "    <tr>\n",
              "      <th>12</th>\n",
              "      <td>LSTAT</td>\n",
              "      <td>-4.035573</td>\n",
              "      <td>-3.480674</td>\n",
              "      <td>-3.856144</td>\n",
              "      <td>-2.496310</td>\n",
              "    </tr>\n",
              "    <tr>\n",
              "      <th>13</th>\n",
              "      <td>Noise_1</td>\n",
              "      <td>0.136172</td>\n",
              "      <td>0.000000</td>\n",
              "      <td>0.129049</td>\n",
              "      <td>0.000000</td>\n",
              "    </tr>\n",
              "    <tr>\n",
              "      <th>14</th>\n",
              "      <td>Noise_2</td>\n",
              "      <td>0.168486</td>\n",
              "      <td>0.000000</td>\n",
              "      <td>0.149948</td>\n",
              "      <td>-0.000000</td>\n",
              "    </tr>\n",
              "    <tr>\n",
              "      <th>15</th>\n",
              "      <td>Noise_3</td>\n",
              "      <td>-0.194672</td>\n",
              "      <td>-0.000000</td>\n",
              "      <td>-0.191221</td>\n",
              "      <td>-0.000000</td>\n",
              "    </tr>\n",
              "    <tr>\n",
              "      <th>16</th>\n",
              "      <td>Noise_4</td>\n",
              "      <td>0.053402</td>\n",
              "      <td>0.000000</td>\n",
              "      <td>0.080963</td>\n",
              "      <td>0.000000</td>\n",
              "    </tr>\n",
              "    <tr>\n",
              "      <th>17</th>\n",
              "      <td>Noise_5</td>\n",
              "      <td>-0.194029</td>\n",
              "      <td>-0.000000</td>\n",
              "      <td>-0.174320</td>\n",
              "      <td>-0.000000</td>\n",
              "    </tr>\n",
              "  </tbody>\n",
              "</table>\n",
              "</div>"
            ],
            "text/plain": [
              "   Feature Name  Linear Regression     Lasso  Ridge Regression  Elastic Net\n",
              "0          CRIM          -0.209227 -0.000000         -0.169613    -0.000000\n",
              "1            ZN           0.741280  0.000000          0.618571     0.000000\n",
              "2         INDUS           0.218007 -0.000000          0.035618    -0.112192\n",
              "3          CHAS           1.051427  0.340719          1.072807     0.635905\n",
              "4           NOX          -2.103254 -0.000000         -1.768821    -0.202282\n",
              "5            RM           2.985049  3.075163          3.074850     2.618869\n",
              "6           AGE           0.272067 -0.000000          0.165283    -0.000000\n",
              "7           DIS          -2.823617 -0.000000         -2.546644    -0.014043\n",
              "8           RAD           2.243059 -0.000000          1.669275    -0.000000\n",
              "9           TAX          -1.520157 -0.000000         -1.045733    -0.224970\n",
              "10      PTRATIO          -2.284379 -1.231897         -2.176383    -1.333656\n",
              "11            B           1.055222  0.172007          1.048335     0.590854\n",
              "12        LSTAT          -4.035573 -3.480674         -3.856144    -2.496310\n",
              "13      Noise_1           0.136172  0.000000          0.129049     0.000000\n",
              "14      Noise_2           0.168486  0.000000          0.149948    -0.000000\n",
              "15      Noise_3          -0.194672 -0.000000         -0.191221    -0.000000\n",
              "16      Noise_4           0.053402  0.000000          0.080963     0.000000\n",
              "17      Noise_5          -0.194029 -0.000000         -0.174320    -0.000000"
            ]
          },
          "metadata": {
            "tags": []
          },
          "execution_count": 20
        }
      ]
    },
    {
      "cell_type": "markdown",
      "metadata": {
        "id": "vCaYnamIP5eN"
      },
      "source": [
        "#### Decribe the results"
      ]
    },
    {
      "cell_type": "markdown",
      "metadata": {
        "id": "BJRGjHfBP5eN"
      },
      "source": [
        "- We can see that linear regression assigned non-zero values to all 5 of our noise features, despite none of them having any predictive power. Interestingly, these noise features have coefficients with magnitudes similar to some of the real features in the dataset.\n",
        "- As we hoped, Lasso did a good job of reducing all 5 of our noise features to 0, as well as many of the real features from the dataset. This is indeed a much simpler model than given by linear regression\n",
        "- Ridge Regression makes a similar mistake as unregularized linear regression, assigning coefficient values to our noise features. We also see some features have very small coefficients.\n",
        "- Much like Lasso, Elastic Net makes the coefficients of several features 0. It however does not make as many coefficients 0 as Lasso does."
      ]
    },
    {
      "cell_type": "markdown",
      "metadata": {
        "id": "68pMwN4BP5eO"
      },
      "source": [
        "### Compute the Model Scores"
      ]
    },
    {
      "cell_type": "code",
      "metadata": {
        "colab": {
          "base_uri": "https://localhost:8080/"
        },
        "id": "W7c4w67PwR1Z",
        "outputId": "7173db94-9c62-4861-a8f7-6012b878b701"
      },
      "source": [
        "from sklearn.metrics import r2_score\n",
        "from sklearn.metrics import mean_squared_error\n",
        "\n",
        "lr_r2 = r2_score(y_test, lr.predict(X_test))\n",
        "lr_mse = mean_squared_error(y_test, lr.predict(X_test))\n",
        "\n",
        "ls_r2 = r2_score(y_test, ls.predict(X_test))\n",
        "ls_mse = mean_squared_error(y_test, ls.predict(X_test))\n",
        "\n",
        "rg_r2 = r2_score(y_test, rg.predict(X_test))\n",
        "rg_mse = mean_squared_error(y_test, rg.predict(X_test))\n",
        "\n",
        "en_r2 = r2_score(y_test, en.predict(X_test))\n",
        "en_mse = mean_squared_error(y_test, en.predict(X_test))\n",
        "\n",
        "print(f'Mean Squared Error of Linear Regression {lr_mse:.2f}')\n",
        "print(f'R2 score of Linear Regression {lr_r2:.2f}')\n",
        "print(\"__________________________________________________\")\n",
        "\n",
        "print(f'Mean Squared Error of Lasso {ls_mse:.2f}')\n",
        "print(f'R2 score of Lasso {ls_r2:.2f}')\n",
        "print(\"__________________________________________________\")\n",
        "\n",
        "print(f'Mean Squared Error of Ridge Regression {rg_mse:.2f}')\n",
        "print(f'R2 score of Ridge Regression {rg_r2:.2f}')\n",
        "print(\"__________________________________________________\")\n",
        "\n",
        "print(f'Mean Squared Error of Elastic Net {en_mse:.2f}')\n",
        "print(f'R2 score of ElasticNet {en_r2:.2f}')"
      ],
      "execution_count": 21,
      "outputs": [
        {
          "output_type": "stream",
          "text": [
            "Mean Squared Error of Linear Regression 23.65\n",
            "R2 score of Linear Regression 0.66\n",
            "__________________________________________________\n",
            "Mean Squared Error of Lasso 24.91\n",
            "R2 score of Lasso 0.65\n",
            "__________________________________________________\n",
            "Mean Squared Error of Ridge Regression 23.60\n",
            "R2 score of Ridge Regression 0.67\n",
            "__________________________________________________\n",
            "Mean Squared Error of Elastic Net 24.63\n",
            "R2 score of ElasticNet 0.65\n"
          ],
          "name": "stdout"
        }
      ]
    },
    {
      "cell_type": "code",
      "metadata": {
        "id": "1b310Fv7P5eO",
        "colab": {
          "base_uri": "https://localhost:8080/"
        },
        "outputId": "42ed04ba-ada9-4680-8214-29330fe0e672"
      },
      "source": [
        "print(f'Mean Squared Error of Linear Regression {lr_mse:.2f}')\n",
        "print(f'Mean Squared Error of Lasso {ls_mse:.2f}')\n",
        "print(f'Mean Squared Error of Ridge Regression {rg_mse:.2f}')\n",
        "print(f'Mean Squared Error of Elastic Net {en_mse:.2f}')"
      ],
      "execution_count": 22,
      "outputs": [
        {
          "output_type": "stream",
          "text": [
            "Mean Squared Error of Linear Regression 23.65\n",
            "Mean Squared Error of Lasso 24.91\n",
            "Mean Squared Error of Ridge Regression 23.60\n",
            "Mean Squared Error of Elastic Net 24.63\n"
          ],
          "name": "stdout"
        }
      ]
    },
    {
      "cell_type": "code",
      "metadata": {
        "colab": {
          "base_uri": "https://localhost:8080/"
        },
        "id": "n_AjUI_KwQBi",
        "outputId": "6444f6d3-a0ca-4feb-de71-5a9ba63b43ae"
      },
      "source": [
        "from sklearn.metrics import r2_score\n",
        "from sklearn.metrics import mean_squared_error\n",
        "\n",
        "#Victor's Solution\n",
        "\n",
        "models = [(boston_lr, 'Linear Regression'),\n",
        "           (boston_ls, 'Lasso'),\n",
        "           (boston_rg, \"Ridge Regression\"),\n",
        "           (boston_en, \"Elastic Net\")]\n",
        "\n",
        "for model in models:\n",
        "    r2 = r2_score(y_test, model[0].predict(X_test))\n",
        "    mse = mean_squared_error(y_test, model[0].predict(X_test))\n",
        "    print(model[1])\n",
        "    print(f\"r2 score of {model[1]}: {r2:.3f}\")\n",
        "    print(f\"Mean Squared Error of {model[1]}: {mse:.3f}\")\n",
        "    print(\"#======================================#\")"
      ],
      "execution_count": 23,
      "outputs": [
        {
          "output_type": "stream",
          "text": [
            "Linear Regression\n",
            "r2 score of Linear Regression: 0.664\n",
            "Mean Squared Error of Linear Regression: 23.650\n",
            "#======================================#\n",
            "Lasso\n",
            "r2 score of Lasso: 0.647\n",
            "Mean Squared Error of Lasso: 24.910\n",
            "#======================================#\n",
            "Ridge Regression\n",
            "r2 score of Ridge Regression: 0.665\n",
            "Mean Squared Error of Ridge Regression: 23.603\n",
            "#======================================#\n",
            "Elastic Net\n",
            "r2 score of Elastic Net: 0.651\n",
            "Mean Squared Error of Elastic Net: 24.626\n",
            "#======================================#\n"
          ],
          "name": "stdout"
        }
      ]
    },
    {
      "cell_type": "markdown",
      "metadata": {
        "id": "komlDuMgP5eO"
      },
      "source": [
        "This might seem counter-intuitive, but it is important to remember the ridge regression model traded some variance for bias, which ultimately lead to an overall smaller error. The Lasso and Elastic Net models traded a significant amount of variance for bias, and we see that our error has increased.\n",
        "Interestingly, Lasso and Elastic Net had a higher MSE than Linear Regression. But does that mean that these models are unequivocally worse? I would argue not, as the Lasso and Elastic Net models also performed feature selection, which gives us better interpretability of the models. Coefficients are interpreted as the change in dependent variable with a one unit increase in predictor value, with all other predictors held constant. In the case of complex models, the assumption of holding all other predictors constant cannot reasonably be met."
      ]
    },
    {
      "cell_type": "markdown",
      "metadata": {
        "id": "uGEyFZxRP5eP"
      },
      "source": [
        "### Alpha parameter:  Apply Lasso with different values of alpha and describe how the parameters scores change\n",
        "\n",
        "\n",
        "- Complete the function and apply it to the following values: [0, .0001, .5, 10]\n",
        "- Describe the results"
      ]
    },
    {
      "cell_type": "code",
      "metadata": {
        "id": "3d3m1027P5eP"
      },
      "source": [
        "names = names = X.columns\n",
        "\n",
        "\n",
        "# Create a function called lasso,\n",
        "def lasso(alphas):\n",
        "    '''\n",
        "    Takes in a list of alphas. Outputs a dataframe containing the coefficients of lasso regressions from each alpha.\n",
        "    '''\n",
        "    # Create an empty data frame\n",
        "    df = pd.DataFrame()\n",
        "    \n",
        "    # Create a column of feature names\n",
        "    df['Feature Name'] = names\n",
        "\n",
        "    # Create Linear regression and Elastic Net coef column to compare results\n",
        "    df['Linear Regression'] = lr.coef_\n",
        "    df['Elastic Net'] = en.coef_\n",
        "    \n",
        "    # For each alpha value in the list of alpha values,\n",
        "    for alpha in alphas:\n",
        "        # Create a lasso regression with that alpha value,\n",
        "\n",
        "        lasso = Lasso(alpha=alpha)\n",
        "\n",
        "        # Fit the lasso regression\n",
        "        lasso.fit(X_scaled, y)\n",
        "        \n",
        "        # Create a column name for that alpha value\n",
        "        column_name = 'Alpha = %f' % alpha\n",
        "\n",
        "        # Create a column of coefficient values\n",
        "        df[column_name] = lasso.coef_\n",
        "        \n",
        "    # Return the dataframe  \n",
        "    return df"
      ],
      "execution_count": 24,
      "outputs": []
    },
    {
      "cell_type": "code",
      "metadata": {
        "colab": {
          "base_uri": "https://localhost:8080/",
          "height": 232
        },
        "id": "-h1--OEmFTef",
        "outputId": "d292eb92-b620-4186-ef1b-2aa1a43f47a8"
      },
      "source": [
        "for Alpha in [0,0.0001,0.5,10]:\n",
        "    lr.fit(X_train, y_train)\n",
        "    pd.Series(lr.coef_, alpha=Alpha, \n",
        "              index=X.columns).plot(kind='barh')\n",
        "    plt.title(Alpha)\n",
        "    plt.xlabel('Coefficient Value')\n",
        "    plt.ylabel('Feature Name')\n",
        "    plt.show()"
      ],
      "execution_count": 25,
      "outputs": [
        {
          "output_type": "error",
          "ename": "TypeError",
          "evalue": "ignored",
          "traceback": [
            "\u001b[0;31m---------------------------------------------------------------------------\u001b[0m",
            "\u001b[0;31mTypeError\u001b[0m                                 Traceback (most recent call last)",
            "\u001b[0;32m<ipython-input-25-538bfd293e5d>\u001b[0m in \u001b[0;36m<module>\u001b[0;34m()\u001b[0m\n\u001b[1;32m      2\u001b[0m     \u001b[0mlr\u001b[0m\u001b[0;34m.\u001b[0m\u001b[0mfit\u001b[0m\u001b[0;34m(\u001b[0m\u001b[0mX_train\u001b[0m\u001b[0;34m,\u001b[0m \u001b[0my_train\u001b[0m\u001b[0;34m)\u001b[0m\u001b[0;34m\u001b[0m\u001b[0;34m\u001b[0m\u001b[0m\n\u001b[1;32m      3\u001b[0m     pd.Series(lr.coef_, alpha=Alpha, \n\u001b[0;32m----> 4\u001b[0;31m               index=X.columns).plot(kind='barh')\n\u001b[0m\u001b[1;32m      5\u001b[0m     \u001b[0mplt\u001b[0m\u001b[0;34m.\u001b[0m\u001b[0mtitle\u001b[0m\u001b[0;34m(\u001b[0m\u001b[0mAlpha\u001b[0m\u001b[0;34m)\u001b[0m\u001b[0;34m\u001b[0m\u001b[0;34m\u001b[0m\u001b[0m\n\u001b[1;32m      6\u001b[0m     \u001b[0mplt\u001b[0m\u001b[0;34m.\u001b[0m\u001b[0mxlabel\u001b[0m\u001b[0;34m(\u001b[0m\u001b[0;34m'Coefficient Value'\u001b[0m\u001b[0;34m)\u001b[0m\u001b[0;34m\u001b[0m\u001b[0;34m\u001b[0m\u001b[0m\n",
            "\u001b[0;31mTypeError\u001b[0m: __init__() got an unexpected keyword argument 'alpha'"
          ]
        }
      ]
    },
    {
      "cell_type": "code",
      "metadata": {
        "colab": {
          "base_uri": "https://localhost:8080/",
          "height": 712
        },
        "id": "o1nRTUJY5_68",
        "outputId": "2f0d7f8c-ea6e-43b0-d523-1e7775b15f55"
      },
      "source": [
        "lasso([0, .0001, .5, 10])"
      ],
      "execution_count": 26,
      "outputs": [
        {
          "output_type": "stream",
          "text": [
            "/usr/local/lib/python3.7/dist-packages/ipykernel_launcher.py:26: UserWarning: With alpha=0, this algorithm does not converge well. You are advised to use the LinearRegression estimator\n",
            "/usr/local/lib/python3.7/dist-packages/sklearn/linear_model/_coordinate_descent.py:476: UserWarning: Coordinate descent with no regularization may lead to unexpected results and is discouraged.\n",
            "  positive)\n",
            "/usr/local/lib/python3.7/dist-packages/sklearn/linear_model/_coordinate_descent.py:476: ConvergenceWarning: Objective did not converge. You might want to increase the number of iterations. Duality gap: 5528.867386486949, tolerance: 4.2716295415019765\n",
            "  positive)\n"
          ],
          "name": "stderr"
        },
        {
          "output_type": "execute_result",
          "data": {
            "text/html": [
              "<div>\n",
              "<style scoped>\n",
              "    .dataframe tbody tr th:only-of-type {\n",
              "        vertical-align: middle;\n",
              "    }\n",
              "\n",
              "    .dataframe tbody tr th {\n",
              "        vertical-align: top;\n",
              "    }\n",
              "\n",
              "    .dataframe thead th {\n",
              "        text-align: right;\n",
              "    }\n",
              "</style>\n",
              "<table border=\"1\" class=\"dataframe\">\n",
              "  <thead>\n",
              "    <tr style=\"text-align: right;\">\n",
              "      <th></th>\n",
              "      <th>Feature Name</th>\n",
              "      <th>Linear Regression</th>\n",
              "      <th>Elastic Net</th>\n",
              "      <th>Alpha = 0.000000</th>\n",
              "      <th>Alpha = 0.000100</th>\n",
              "      <th>Alpha = 0.500000</th>\n",
              "      <th>Alpha = 10.000000</th>\n",
              "    </tr>\n",
              "  </thead>\n",
              "  <tbody>\n",
              "    <tr>\n",
              "      <th>0</th>\n",
              "      <td>CRIM</td>\n",
              "      <td>-0.209227</td>\n",
              "      <td>-0.000000</td>\n",
              "      <td>-0.948685</td>\n",
              "      <td>-0.948397</td>\n",
              "      <td>-0.115265</td>\n",
              "      <td>-0.0</td>\n",
              "    </tr>\n",
              "    <tr>\n",
              "      <th>1</th>\n",
              "      <td>ZN</td>\n",
              "      <td>0.741280</td>\n",
              "      <td>0.000000</td>\n",
              "      <td>1.077232</td>\n",
              "      <td>1.076764</td>\n",
              "      <td>0.000000</td>\n",
              "      <td>0.0</td>\n",
              "    </tr>\n",
              "    <tr>\n",
              "      <th>2</th>\n",
              "      <td>INDUS</td>\n",
              "      <td>0.218007</td>\n",
              "      <td>-0.112192</td>\n",
              "      <td>0.140274</td>\n",
              "      <td>0.139348</td>\n",
              "      <td>-0.000000</td>\n",
              "      <td>-0.0</td>\n",
              "    </tr>\n",
              "    <tr>\n",
              "      <th>3</th>\n",
              "      <td>CHAS</td>\n",
              "      <td>1.051427</td>\n",
              "      <td>0.635905</td>\n",
              "      <td>0.692490</td>\n",
              "      <td>0.692508</td>\n",
              "      <td>0.397079</td>\n",
              "      <td>0.0</td>\n",
              "    </tr>\n",
              "    <tr>\n",
              "      <th>4</th>\n",
              "      <td>NOX</td>\n",
              "      <td>-2.103254</td>\n",
              "      <td>-0.202282</td>\n",
              "      <td>-2.072143</td>\n",
              "      <td>-2.071280</td>\n",
              "      <td>-0.000000</td>\n",
              "      <td>-0.0</td>\n",
              "    </tr>\n",
              "    <tr>\n",
              "      <th>5</th>\n",
              "      <td>RM</td>\n",
              "      <td>2.985049</td>\n",
              "      <td>2.618869</td>\n",
              "      <td>2.669426</td>\n",
              "      <td>2.669609</td>\n",
              "      <td>2.974259</td>\n",
              "      <td>0.0</td>\n",
              "    </tr>\n",
              "    <tr>\n",
              "      <th>6</th>\n",
              "      <td>AGE</td>\n",
              "      <td>0.272067</td>\n",
              "      <td>-0.000000</td>\n",
              "      <td>0.031321</td>\n",
              "      <td>0.030878</td>\n",
              "      <td>-0.000000</td>\n",
              "      <td>-0.0</td>\n",
              "    </tr>\n",
              "    <tr>\n",
              "      <th>7</th>\n",
              "      <td>DIS</td>\n",
              "      <td>-2.823617</td>\n",
              "      <td>-0.014043</td>\n",
              "      <td>-3.096452</td>\n",
              "      <td>-3.096078</td>\n",
              "      <td>-0.170569</td>\n",
              "      <td>0.0</td>\n",
              "    </tr>\n",
              "    <tr>\n",
              "      <th>8</th>\n",
              "      <td>RAD</td>\n",
              "      <td>2.243059</td>\n",
              "      <td>-0.000000</td>\n",
              "      <td>2.649657</td>\n",
              "      <td>2.647807</td>\n",
              "      <td>-0.000000</td>\n",
              "      <td>-0.0</td>\n",
              "    </tr>\n",
              "    <tr>\n",
              "      <th>9</th>\n",
              "      <td>TAX</td>\n",
              "      <td>-1.520157</td>\n",
              "      <td>-0.224970</td>\n",
              "      <td>-2.020567</td>\n",
              "      <td>-2.018804</td>\n",
              "      <td>-0.000000</td>\n",
              "      <td>-0.0</td>\n",
              "    </tr>\n",
              "    <tr>\n",
              "      <th>10</th>\n",
              "      <td>PTRATIO</td>\n",
              "      <td>-2.284379</td>\n",
              "      <td>-1.333656</td>\n",
              "      <td>-2.093674</td>\n",
              "      <td>-2.093408</td>\n",
              "      <td>-1.598449</td>\n",
              "      <td>-0.0</td>\n",
              "    </tr>\n",
              "    <tr>\n",
              "      <th>11</th>\n",
              "      <td>B</td>\n",
              "      <td>1.055222</td>\n",
              "      <td>0.590854</td>\n",
              "      <td>0.842137</td>\n",
              "      <td>0.842061</td>\n",
              "      <td>0.543139</td>\n",
              "      <td>0.0</td>\n",
              "    </tr>\n",
              "    <tr>\n",
              "      <th>12</th>\n",
              "      <td>LSTAT</td>\n",
              "      <td>-4.035573</td>\n",
              "      <td>-2.496310</td>\n",
              "      <td>-3.760416</td>\n",
              "      <td>-3.760188</td>\n",
              "      <td>-3.666144</td>\n",
              "      <td>-0.0</td>\n",
              "    </tr>\n",
              "    <tr>\n",
              "      <th>13</th>\n",
              "      <td>Noise_1</td>\n",
              "      <td>0.136172</td>\n",
              "      <td>0.000000</td>\n",
              "      <td>0.119387</td>\n",
              "      <td>0.119274</td>\n",
              "      <td>0.000000</td>\n",
              "      <td>0.0</td>\n",
              "    </tr>\n",
              "    <tr>\n",
              "      <th>14</th>\n",
              "      <td>Noise_2</td>\n",
              "      <td>0.168486</td>\n",
              "      <td>-0.000000</td>\n",
              "      <td>0.059527</td>\n",
              "      <td>0.059394</td>\n",
              "      <td>-0.000000</td>\n",
              "      <td>-0.0</td>\n",
              "    </tr>\n",
              "    <tr>\n",
              "      <th>15</th>\n",
              "      <td>Noise_3</td>\n",
              "      <td>-0.194672</td>\n",
              "      <td>-0.000000</td>\n",
              "      <td>-0.149239</td>\n",
              "      <td>-0.149158</td>\n",
              "      <td>-0.000000</td>\n",
              "      <td>0.0</td>\n",
              "    </tr>\n",
              "    <tr>\n",
              "      <th>16</th>\n",
              "      <td>Noise_4</td>\n",
              "      <td>0.053402</td>\n",
              "      <td>0.000000</td>\n",
              "      <td>0.017306</td>\n",
              "      <td>0.017247</td>\n",
              "      <td>0.000000</td>\n",
              "      <td>0.0</td>\n",
              "    </tr>\n",
              "    <tr>\n",
              "      <th>17</th>\n",
              "      <td>Noise_5</td>\n",
              "      <td>-0.194029</td>\n",
              "      <td>-0.000000</td>\n",
              "      <td>-0.027445</td>\n",
              "      <td>-0.027328</td>\n",
              "      <td>0.000000</td>\n",
              "      <td>0.0</td>\n",
              "    </tr>\n",
              "  </tbody>\n",
              "</table>\n",
              "</div>"
            ],
            "text/plain": [
              "   Feature Name  Linear Regression  ...  Alpha = 0.500000  Alpha = 10.000000\n",
              "0          CRIM          -0.209227  ...         -0.115265               -0.0\n",
              "1            ZN           0.741280  ...          0.000000                0.0\n",
              "2         INDUS           0.218007  ...         -0.000000               -0.0\n",
              "3          CHAS           1.051427  ...          0.397079                0.0\n",
              "4           NOX          -2.103254  ...         -0.000000               -0.0\n",
              "5            RM           2.985049  ...          2.974259                0.0\n",
              "6           AGE           0.272067  ...         -0.000000               -0.0\n",
              "7           DIS          -2.823617  ...         -0.170569                0.0\n",
              "8           RAD           2.243059  ...         -0.000000               -0.0\n",
              "9           TAX          -1.520157  ...         -0.000000               -0.0\n",
              "10      PTRATIO          -2.284379  ...         -1.598449               -0.0\n",
              "11            B           1.055222  ...          0.543139                0.0\n",
              "12        LSTAT          -4.035573  ...         -3.666144               -0.0\n",
              "13      Noise_1           0.136172  ...          0.000000                0.0\n",
              "14      Noise_2           0.168486  ...         -0.000000               -0.0\n",
              "15      Noise_3          -0.194672  ...         -0.000000                0.0\n",
              "16      Noise_4           0.053402  ...          0.000000                0.0\n",
              "17      Noise_5          -0.194029  ...          0.000000                0.0\n",
              "\n",
              "[18 rows x 7 columns]"
            ]
          },
          "metadata": {
            "tags": []
          },
          "execution_count": 26
        }
      ]
    },
    {
      "cell_type": "markdown",
      "metadata": {
        "id": "f9mjD2LBP5eQ"
      },
      "source": [
        "#### Describe the above results"
      ]
    },
    {
      "cell_type": "markdown",
      "metadata": {
        "id": "WNs6fm2h26Wt"
      },
      "source": [
        "\n",
        "\n",
        "*   As expected, when alpha is increased more coefficients are equal to 0. This indicates High sparcity the bigger alpha is.  \n",
        "*   List item\n",
        "\n"
      ]
    },
    {
      "cell_type": "markdown",
      "metadata": {
        "id": "D3dtgTMjP5eR"
      },
      "source": [
        "### Apply Ridge with different values of alpha and describe how the parameters scores change\n",
        "- Complete the function and apply it to the following values: [0, .0001, .5, 10]\n",
        "- Describe the results"
      ]
    },
    {
      "cell_type": "code",
      "metadata": {
        "id": "BycXXJZoP5eR"
      },
      "source": [
        "names = names = X.columns\n",
        "\n",
        "# Create a function called lasso,\n",
        "def ridge(alphas):\n",
        "    '''\n",
        "    Takes in a list of alphas. Outputs a dataframe containing the coefficients of ridge regressions from each alpha.\n",
        "    '''\n",
        "    # Create an empty data frame\n",
        "    df = pd.DataFrame()\n",
        "    \n",
        "    # Create a column of feature names\n",
        "    df['Feature Name'] = names\n",
        "    \n",
        "    # Create Linear regression and Elastic Net coef column to compare results\n",
        "    df['Linear Regression'] = lr.coef_\n",
        "    df['Elastic Net'] = en.coef_\n",
        "    \n",
        "    # For each alpha value in the list of alpha values,\n",
        "    for alpha in alphas:\n",
        "        # Create a Ridge regression with that alpha value,\n",
        "        \n",
        "        #********************************************************\n",
        "        ridge = Ridge(alpha=alpha)\n",
        "        \n",
        "        # Fit the lasso regression\n",
        "        ridge.fit(X_scaled, y)\n",
        "        \n",
        "        # Create a column name for that alpha value\n",
        "        column_name = 'Alpha = %f' % alpha\n",
        "\n",
        "        # Create a column of coefficient values\n",
        "        df[column_name] = ridge.coef_\n",
        "        \n",
        "    # Return the dataframe  \n",
        "    return df"
      ],
      "execution_count": 32,
      "outputs": []
    },
    {
      "cell_type": "code",
      "metadata": {
        "id": "3XXSdX92P5eR",
        "colab": {
          "base_uri": "https://localhost:8080/",
          "height": 624
        },
        "outputId": "537d8967-4ba5-45a5-9f76-d3cd25bc53f0"
      },
      "source": [
        "#I've added the optimal alpha obtained with crossvalidation via sklearn's CV function\n",
        "ridge([0, .00001, .5, 10, 0.1])"
      ],
      "execution_count": 33,
      "outputs": [
        {
          "output_type": "execute_result",
          "data": {
            "text/html": [
              "<div>\n",
              "<style scoped>\n",
              "    .dataframe tbody tr th:only-of-type {\n",
              "        vertical-align: middle;\n",
              "    }\n",
              "\n",
              "    .dataframe tbody tr th {\n",
              "        vertical-align: top;\n",
              "    }\n",
              "\n",
              "    .dataframe thead th {\n",
              "        text-align: right;\n",
              "    }\n",
              "</style>\n",
              "<table border=\"1\" class=\"dataframe\">\n",
              "  <thead>\n",
              "    <tr style=\"text-align: right;\">\n",
              "      <th></th>\n",
              "      <th>Feature Name</th>\n",
              "      <th>Linear Regression</th>\n",
              "      <th>Elastic Net</th>\n",
              "      <th>Alpha = 0.000000</th>\n",
              "      <th>Alpha = 0.000010</th>\n",
              "      <th>Alpha = 0.500000</th>\n",
              "      <th>Alpha = 10.000000</th>\n",
              "      <th>Alpha = 0.100000</th>\n",
              "    </tr>\n",
              "  </thead>\n",
              "  <tbody>\n",
              "    <tr>\n",
              "      <th>0</th>\n",
              "      <td>CRIM</td>\n",
              "      <td>-0.215967</td>\n",
              "      <td>-0.000000</td>\n",
              "      <td>-0.949845</td>\n",
              "      <td>-0.949845</td>\n",
              "      <td>-0.945458</td>\n",
              "      <td>-0.877573</td>\n",
              "      <td>-0.948960</td>\n",
              "    </tr>\n",
              "    <tr>\n",
              "      <th>1</th>\n",
              "      <td>ZN</td>\n",
              "      <td>0.795810</td>\n",
              "      <td>0.000000</td>\n",
              "      <td>1.129422</td>\n",
              "      <td>1.129422</td>\n",
              "      <td>1.121359</td>\n",
              "      <td>0.995537</td>\n",
              "      <td>1.127795</td>\n",
              "    </tr>\n",
              "    <tr>\n",
              "      <th>2</th>\n",
              "      <td>INDUS</td>\n",
              "      <td>0.231896</td>\n",
              "      <td>-0.112193</td>\n",
              "      <td>0.159102</td>\n",
              "      <td>0.159102</td>\n",
              "      <td>0.146752</td>\n",
              "      <td>-0.029204</td>\n",
              "      <td>0.156600</td>\n",
              "    </tr>\n",
              "    <tr>\n",
              "      <th>3</th>\n",
              "      <td>CHAS</td>\n",
              "      <td>1.018476</td>\n",
              "      <td>0.635905</td>\n",
              "      <td>0.689872</td>\n",
              "      <td>0.689872</td>\n",
              "      <td>0.691655</td>\n",
              "      <td>0.716696</td>\n",
              "      <td>0.690233</td>\n",
              "    </tr>\n",
              "    <tr>\n",
              "      <th>4</th>\n",
              "      <td>NOX</td>\n",
              "      <td>-2.036732</td>\n",
              "      <td>-0.202281</td>\n",
              "      <td>-2.050232</td>\n",
              "      <td>-2.050232</td>\n",
              "      <td>-2.036182</td>\n",
              "      <td>-1.804928</td>\n",
              "      <td>-2.047404</td>\n",
              "    </tr>\n",
              "    <tr>\n",
              "      <th>5</th>\n",
              "      <td>RM</td>\n",
              "      <td>2.962200</td>\n",
              "      <td>2.618869</td>\n",
              "      <td>2.685863</td>\n",
              "      <td>2.685863</td>\n",
              "      <td>2.690216</td>\n",
              "      <td>2.754260</td>\n",
              "      <td>2.686743</td>\n",
              "    </tr>\n",
              "    <tr>\n",
              "      <th>6</th>\n",
              "      <td>AGE</td>\n",
              "      <td>0.240770</td>\n",
              "      <td>-0.000000</td>\n",
              "      <td>0.045124</td>\n",
              "      <td>0.045124</td>\n",
              "      <td>0.041787</td>\n",
              "      <td>-0.009087</td>\n",
              "      <td>0.044450</td>\n",
              "    </tr>\n",
              "    <tr>\n",
              "      <th>7</th>\n",
              "      <td>DIS</td>\n",
              "      <td>-2.869050</td>\n",
              "      <td>-0.014043</td>\n",
              "      <td>-3.118196</td>\n",
              "      <td>-3.118196</td>\n",
              "      <td>-3.104585</td>\n",
              "      <td>-2.867439</td>\n",
              "      <td>-3.115464</td>\n",
              "    </tr>\n",
              "    <tr>\n",
              "      <th>8</th>\n",
              "      <td>RAD</td>\n",
              "      <td>2.306229</td>\n",
              "      <td>-0.000000</td>\n",
              "      <td>2.713743</td>\n",
              "      <td>2.713742</td>\n",
              "      <td>2.676585</td>\n",
              "      <td>2.129832</td>\n",
              "      <td>2.706224</td>\n",
              "    </tr>\n",
              "    <tr>\n",
              "      <th>9</th>\n",
              "      <td>TAX</td>\n",
              "      <td>-1.705705</td>\n",
              "      <td>-0.224970</td>\n",
              "      <td>-2.179093</td>\n",
              "      <td>-2.179092</td>\n",
              "      <td>-2.143931</td>\n",
              "      <td>-1.644920</td>\n",
              "      <td>-2.171967</td>\n",
              "    </tr>\n",
              "    <tr>\n",
              "      <th>10</th>\n",
              "      <td>PTRATIO</td>\n",
              "      <td>-2.242805</td>\n",
              "      <td>-1.333656</td>\n",
              "      <td>-2.016564</td>\n",
              "      <td>-2.016564</td>\n",
              "      <td>-2.012561</td>\n",
              "      <td>-1.946580</td>\n",
              "      <td>-2.015758</td>\n",
              "    </tr>\n",
              "    <tr>\n",
              "      <th>11</th>\n",
              "      <td>B</td>\n",
              "      <td>1.107445</td>\n",
              "      <td>0.590854</td>\n",
              "      <td>0.878004</td>\n",
              "      <td>0.878004</td>\n",
              "      <td>0.877660</td>\n",
              "      <td>0.871180</td>\n",
              "      <td>0.877935</td>\n",
              "    </tr>\n",
              "    <tr>\n",
              "      <th>12</th>\n",
              "      <td>LSTAT</td>\n",
              "      <td>-4.012499</td>\n",
              "      <td>-2.496310</td>\n",
              "      <td>-3.723375</td>\n",
              "      <td>-3.723375</td>\n",
              "      <td>-3.716933</td>\n",
              "      <td>-3.604873</td>\n",
              "      <td>-3.722082</td>\n",
              "    </tr>\n",
              "    <tr>\n",
              "      <th>13</th>\n",
              "      <td>Noise_1</td>\n",
              "      <td>0.212717</td>\n",
              "      <td>0.000000</td>\n",
              "      <td>0.143694</td>\n",
              "      <td>0.143694</td>\n",
              "      <td>0.144138</td>\n",
              "      <td>0.149917</td>\n",
              "      <td>0.143784</td>\n",
              "    </tr>\n",
              "    <tr>\n",
              "      <th>14</th>\n",
              "      <td>Noise_2</td>\n",
              "      <td>-0.243781</td>\n",
              "      <td>-0.000000</td>\n",
              "      <td>-0.187988</td>\n",
              "      <td>-0.187988</td>\n",
              "      <td>-0.187571</td>\n",
              "      <td>-0.181224</td>\n",
              "      <td>-0.187903</td>\n",
              "    </tr>\n",
              "    <tr>\n",
              "      <th>15</th>\n",
              "      <td>Noise_3</td>\n",
              "      <td>0.368042</td>\n",
              "      <td>0.000000</td>\n",
              "      <td>0.218284</td>\n",
              "      <td>0.218284</td>\n",
              "      <td>0.217390</td>\n",
              "      <td>0.202315</td>\n",
              "      <td>0.218104</td>\n",
              "    </tr>\n",
              "    <tr>\n",
              "      <th>16</th>\n",
              "      <td>Noise_4</td>\n",
              "      <td>0.305846</td>\n",
              "      <td>0.000000</td>\n",
              "      <td>0.118810</td>\n",
              "      <td>0.118810</td>\n",
              "      <td>0.119227</td>\n",
              "      <td>0.126793</td>\n",
              "      <td>0.118893</td>\n",
              "    </tr>\n",
              "    <tr>\n",
              "      <th>17</th>\n",
              "      <td>Noise_5</td>\n",
              "      <td>-0.627838</td>\n",
              "      <td>-0.000000</td>\n",
              "      <td>-0.547922</td>\n",
              "      <td>-0.547922</td>\n",
              "      <td>-0.546761</td>\n",
              "      <td>-0.527910</td>\n",
              "      <td>-0.547688</td>\n",
              "    </tr>\n",
              "  </tbody>\n",
              "</table>\n",
              "</div>"
            ],
            "text/plain": [
              "   Feature Name  Linear Regression  ...  Alpha = 10.000000  Alpha = 0.100000\n",
              "0          CRIM          -0.215967  ...          -0.877573         -0.948960\n",
              "1            ZN           0.795810  ...           0.995537          1.127795\n",
              "2         INDUS           0.231896  ...          -0.029204          0.156600\n",
              "3          CHAS           1.018476  ...           0.716696          0.690233\n",
              "4           NOX          -2.036732  ...          -1.804928         -2.047404\n",
              "5            RM           2.962200  ...           2.754260          2.686743\n",
              "6           AGE           0.240770  ...          -0.009087          0.044450\n",
              "7           DIS          -2.869050  ...          -2.867439         -3.115464\n",
              "8           RAD           2.306229  ...           2.129832          2.706224\n",
              "9           TAX          -1.705705  ...          -1.644920         -2.171967\n",
              "10      PTRATIO          -2.242805  ...          -1.946580         -2.015758\n",
              "11            B           1.107445  ...           0.871180          0.877935\n",
              "12        LSTAT          -4.012499  ...          -3.604873         -3.722082\n",
              "13      Noise_1           0.212717  ...           0.149917          0.143784\n",
              "14      Noise_2          -0.243781  ...          -0.181224         -0.187903\n",
              "15      Noise_3           0.368042  ...           0.202315          0.218104\n",
              "16      Noise_4           0.305846  ...           0.126793          0.118893\n",
              "17      Noise_5          -0.627838  ...          -0.527910         -0.547688\n",
              "\n",
              "[18 rows x 8 columns]"
            ]
          },
          "metadata": {
            "tags": []
          },
          "execution_count": 33
        }
      ]
    },
    {
      "cell_type": "markdown",
      "metadata": {
        "id": "htviX3D9P5eS"
      },
      "source": [
        "In practice, we will not manually look for the best alpha coefficient. Both in Lasso and ridge regression, the alpha is a hyperparameter. Therefore, we will find the best one via crossvalidation. Fortunately, sklearn has a function that performs CV to find the optimal alpha automatically. "
      ]
    },
    {
      "cell_type": "code",
      "metadata": {
        "id": "uRFc3rLAP5eT",
        "colab": {
          "base_uri": "https://localhost:8080/"
        },
        "outputId": "e1ccc71f-1c92-4eb3-895e-bab14cf8dd84"
      },
      "source": [
        "from sklearn.linear_model import LassoCV\n",
        "\n",
        "reg_l = LassoCV(max_iter = 5000, cv = 20, normalize=True).fit(X_train, y_train)\n",
        "reg_l.alpha_"
      ],
      "execution_count": 17,
      "outputs": [
        {
          "output_type": "execute_result",
          "data": {
            "text/plain": [
              "0.003571182456192666"
            ]
          },
          "metadata": {
            "tags": []
          },
          "execution_count": 17
        }
      ]
    },
    {
      "cell_type": "code",
      "metadata": {
        "id": "B9iMJpLBP5eT",
        "colab": {
          "base_uri": "https://localhost:8080/"
        },
        "outputId": "c4feb8d8-aa98-485a-91e5-7e58eb96d5e3"
      },
      "source": [
        "from sklearn.linear_model import RidgeCV\n",
        "\n",
        "reg_r = RidgeCV(cv = 20, normalize=True).fit(X_train, y_train)\n",
        "reg_r.alpha_"
      ],
      "execution_count": 43,
      "outputs": [
        {
          "output_type": "execute_result",
          "data": {
            "text/plain": [
              "0.1"
            ]
          },
          "metadata": {
            "tags": []
          },
          "execution_count": 43
        }
      ]
    },
    {
      "cell_type": "code",
      "metadata": {
        "colab": {
          "base_uri": "https://localhost:8080/"
        },
        "id": "XwvZN6CT878X",
        "outputId": "477c6ce8-2f82-42be-c718-7555c72c2926"
      },
      "source": [
        "from sklearn.model_selection import cross_val_score\n",
        "from sklearn.linear_model import Ridge, Lasso\n",
        "\n",
        "for Model in [Ridge, Lasso]:\n",
        "    model = Model()\n",
        "    print('%s Cross Validation Score: %s' % (Model.__name__,\n",
        "                      cross_val_score(model, X_train, y_train, cv=20).mean()))"
      ],
      "execution_count": 46,
      "outputs": [
        {
          "output_type": "stream",
          "text": [
            "Ridge Cross Validation Score: 0.7014081364757999\n",
            "Lasso Cross Validation Score: 0.6460580353307865\n"
          ],
          "name": "stdout"
        }
      ]
    },
    {
      "cell_type": "code",
      "metadata": {
        "colab": {
          "base_uri": "https://localhost:8080/",
          "height": 437
        },
        "id": "GN_S6RDl9Tq-",
        "outputId": "cb0c3896-ebbb-4bc3-8b03-c501dd95e1f5"
      },
      "source": [
        "import numpy as np\n",
        "from matplotlib import pyplot as plt\n",
        "\n",
        "alphas = np.logspace(-3, -1, 30)\n",
        "\n",
        "plt.figure(figsize=(10, 6))\n",
        "\n",
        "for Model in [Lasso, Ridge]:\n",
        "    scores = [cross_val_score(Model(alpha), X_train, y_train, cv=20).mean()\n",
        "            for alpha in alphas]\n",
        "    plt.plot(alphas, scores, label=Model.__name__)\n",
        "\n",
        "plt.legend()\n",
        "plt.xlabel('alpha')\n",
        "plt.ylabel('cross validation score')\n",
        "plt.tight_layout()\n",
        "plt.show()"
      ],
      "execution_count": 40,
      "outputs": [
        {
          "output_type": "display_data",
          "data": {
            "image/png": "[encoded data removed]",
            "text/plain": [
              "<Figure size 720x432 with 1 Axes>"
            ]
          },
          "metadata": {
            "tags": [],
            "needs_background": "light"
          }
        }
      ]
    },
    {
      "cell_type": "code",
      "metadata": {
        "id": "_a1b0FhS9gUu"
      },
      "source": [
        ""
      ],
      "execution_count": null,
      "outputs": []
    }
  ]
}